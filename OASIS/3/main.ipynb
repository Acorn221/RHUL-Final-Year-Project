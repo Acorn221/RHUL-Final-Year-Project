{
 "cells": [
  {
   "cell_type": "code",
   "execution_count": 1,
   "metadata": {},
   "outputs": [],
   "source": [
    "from bids import BIDSLayout\n",
    "from bids.tests import get_test_data_path\n",
    "import os"
   ]
  },
  {
   "cell_type": "code",
   "execution_count": 4,
   "metadata": {},
   "outputs": [],
   "source": [
    "layout = BIDSLayout('OAS30001_MR_d0757/BIDS/')\n"
   ]
  },
  {
   "cell_type": "code",
   "execution_count": 10,
   "metadata": {},
   "outputs": [
    {
     "name": "stdout",
     "output_type": "stream",
     "text": [
      "There are 1 files in the layout.\n",
      "Subjects: [], Entities: {'subject': <Entity subject (pattern=[/\\\\]+sub-([a-zA-Z0-9]+), dtype=<class 'str'>)>, 'session': <Entity session (pattern=[_/\\\\]+ses-([a-zA-Z0-9]+), dtype=<class 'str'>)>, 'sample': <Entity sample (pattern=[_/\\\\]+sample-([a-zA-Z0-9]+), dtype=<class 'str'>)>, 'task': <Entity task (pattern=[_/\\\\]+task-([a-zA-Z0-9]+), dtype=<class 'str'>)>, 'acquisition': <Entity acquisition (pattern=[_/\\\\]+acq-([a-zA-Z0-9]+), dtype=<class 'str'>)>, 'ceagent': <Entity ceagent (pattern=[_/\\\\]+ce-([a-zA-Z0-9]+), dtype=<class 'str'>)>, 'staining': <Entity staining (pattern=[_/\\\\]+stain-([a-zA-Z0-9]+), dtype=<class 'str'>)>, 'tracer': <Entity tracer (pattern=[_/\\\\]+trc-([a-zA-Z0-9]+), dtype=<class 'str'>)>, 'reconstruction': <Entity reconstruction (pattern=[_/\\\\]+rec-([a-zA-Z0-9]+), dtype=<class 'str'>)>, 'direction': <Entity direction (pattern=[_/\\\\]+dir-([a-zA-Z0-9]+), dtype=<class 'str'>)>, 'run': <Entity run (pattern=[_/\\\\]+run-(\\d+), dtype=<class 'bids.layout.utils.PaddedInt'>)>, 'proc': <Entity proc (pattern=[_/\\\\]+proc-([a-zA-Z0-9]+), dtype=<class 'str'>)>, 'modality': <Entity modality (pattern=[_/\\\\]+mod-([a-zA-Z0-9]+), dtype=<class 'str'>)>, 'echo': <Entity echo (pattern=[_/\\\\]+echo-([0-9]+), dtype=<class 'str'>)>, 'flip': <Entity flip (pattern=[_/\\\\]+flip-([0-9]+), dtype=<class 'str'>)>, 'inv': <Entity inv (pattern=[_/\\\\]+inv-([0-9]+), dtype=<class 'str'>)>, 'mt': <Entity mt (pattern=[_/\\\\]+mt-(on|off), dtype=<class 'str'>)>, 'part': <Entity part (pattern=[_/\\\\]+part-(imag|mag|phase|real), dtype=<class 'str'>)>, 'recording': <Entity recording (pattern=[_/\\\\]+recording-([a-zA-Z0-9]+), dtype=<class 'str'>)>, 'space': <Entity space (pattern=[_/\\\\]+space-([a-zA-Z0-9]+), dtype=<class 'str'>)>, 'chunk': <Entity chunk (pattern=[_/\\\\]+chunk-([0-9]+), dtype=<class 'str'>)>, 'suffix': <Entity suffix (pattern=[._]*([a-zA-Z0-9]*?)\\.[^/\\\\]+$, dtype=<class 'str'>)>, 'scans': <Entity scans (pattern=(.*\\_scans.tsv)$, dtype=<class 'str'>)>, 'fmap': <Entity fmap (pattern=(phasediff|magnitude[1-2]|phase[1-2]|fieldmap|epi)\\.nii, dtype=<class 'str'>)>, 'datatype': <Entity datatype (pattern=[/\\\\]+(anat|beh|dwi|eeg|fmap|func|ieeg|meg|micr|perf|pet)[/\\\\]+, dtype=<class 'str'>)>, 'extension': <Entity extension (pattern=[._]*[a-zA-Z0-9]*?(\\.[^/\\\\]+)$, dtype=<class 'str'>)>}\n"
     ]
    }
   ],
   "source": [
    "all_files = layout.get()\n",
    "print(\"There are {} files in the layout.\".format(len(all_files)))\n",
    "print(f\"Subjects: {layout.get_subjects()}, Entities: {layout.get_entities()}\")"
   ]
  },
  {
   "cell_type": "code",
   "execution_count": null,
   "metadata": {},
   "outputs": [],
   "source": [
    "# Show the "
   ]
  }
 ],
 "metadata": {
  "kernelspec": {
   "display_name": "Python 3",
   "language": "python",
   "name": "python3"
  },
  "language_info": {
   "codemirror_mode": {
    "name": "ipython",
    "version": 3
   },
   "file_extension": ".py",
   "mimetype": "text/x-python",
   "name": "python",
   "nbconvert_exporter": "python",
   "pygments_lexer": "ipython3",
   "version": "3.9.1"
  },
  "orig_nbformat": 4
 },
 "nbformat": 4,
 "nbformat_minor": 2
}
